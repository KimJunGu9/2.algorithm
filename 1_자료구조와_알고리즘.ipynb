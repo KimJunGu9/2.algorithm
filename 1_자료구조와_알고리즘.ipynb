{
  "nbformat": 4,
  "nbformat_minor": 0,
  "metadata": {
    "colab": {
      "provenance": [],
      "authorship_tag": "ABX9TyN770qKFiwqaZKHFRYDL528",
      "include_colab_link": true
    },
    "kernelspec": {
      "name": "python3",
      "display_name": "Python 3"
    },
    "language_info": {
      "name": "python"
    }
  },
  "cells": [
    {
      "cell_type": "markdown",
      "metadata": {
        "id": "view-in-github",
        "colab_type": "text"
      },
      "source": [
        "<a href=\"https://colab.research.google.com/github/KimJunGu9/2.algorithm/blob/main/1_%EC%9E%90%EB%A3%8C%EA%B5%AC%EC%A1%B0%EC%99%80_%EC%95%8C%EA%B3%A0%EB%A6%AC%EC%A6%98.ipynb\" target=\"_parent\"><img src=\"https://colab.research.google.com/assets/colab-badge.svg\" alt=\"Open In Colab\"/></a>"
      ]
    },
    {
      "cell_type": "markdown",
      "source": [
        "# **1. 자료구조**"
      ],
      "metadata": {
        "id": "DksCHHo8duMn"
      }
    },
    {
      "cell_type": "markdown",
      "source": [
        "* 용어: 자료구조, data structure\n",
        "* 대량의 데이터를 효율적으로 관리할 수 있는 데이터의 구조를 의미\n",
        "* 코드상에서 효율적으로 데이터를 처리하기 위해, 데이터의 특징에 따라 체계적으로 구조화해야 함\n",
        "\n",
        ">대표적인 자료구조는 배열, 스택, 링크드리스트, 해쉬테이블, 힙 등.."
      ],
      "metadata": {
        "id": "dzpkvb7zdvLW"
      }
    },
    {
      "cell_type": "markdown",
      "source": [
        "# **2. 알고리즘**"
      ],
      "metadata": {
        "id": "7a4curhkdv_7"
      }
    },
    {
      "cell_type": "markdown",
      "source": [
        "* 용어: 알고리즘, algorithm\n",
        "* 어떤 문제를 풀기 위한 절차 및 방법\n",
        "* 어떤 문제에 대해 특정한 \"입력\"을 넣으면 원하는 \"출력\"을 얻을 수 있도록 만드는 프로그램"
      ],
      "metadata": {
        "id": "g2wsKSW4dw5W"
      }
    },
    {
      "cell_type": "markdown",
      "source": [
        "# **3. 자료구조와 알고리즘이 중요한 이유**"
      ],
      "metadata": {
        "id": "D-GxYBRSdxpG"
      }
    },
    {
      "cell_type": "markdown",
      "source": [
        "* 어떤 자료구조와 알고리즘을 사용하느냐에 따라 프로그램의 성능 차이가 큼"
      ],
      "metadata": {
        "id": "SuZcijtjdyw3"
      }
    },
    {
      "cell_type": "markdown",
      "source": [
        "# **4. 파이썬을 활용한 자료구조와 알고리즘**"
      ],
      "metadata": {
        "id": "NgLD3NQad0CO"
      }
    },
    {
      "cell_type": "markdown",
      "source": [
        "* 어떤 언어로든 자료구조와 알고리즘은 익힐 수 있음\n",
        "* 예전에는 C언어 또는 C++로 작성하는 경우가 많았음\n",
        "* 최근에는 언어로 인한 제약/평가는 없어짐\n",
        "* 가장 쉽고 빠르게 자료구조/알고리즘을 익힐 수 있는 언어는 파이썬"
      ],
      "metadata": {
        "id": "1nC9O-kKd1I3"
      }
    }
  ]
}