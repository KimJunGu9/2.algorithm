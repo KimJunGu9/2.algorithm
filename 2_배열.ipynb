{
  "nbformat": 4,
  "nbformat_minor": 0,
  "metadata": {
    "colab": {
      "provenance": [],
      "authorship_tag": "ABX9TyPNHowHboPE8B9bOU2eNKS7",
      "include_colab_link": true
    },
    "kernelspec": {
      "name": "python3",
      "display_name": "Python 3"
    },
    "language_info": {
      "name": "python"
    }
  },
  "cells": [
    {
      "cell_type": "markdown",
      "metadata": {
        "id": "view-in-github",
        "colab_type": "text"
      },
      "source": [
        "<a href=\"https://colab.research.google.com/github/KimJunGu9/2.algorithm/blob/main/2_%EB%B0%B0%EC%97%B4.ipynb\" target=\"_parent\"><img src=\"https://colab.research.google.com/assets/colab-badge.svg\" alt=\"Open In Colab\"/></a>"
      ]
    },
    {
      "cell_type": "markdown",
      "source": [
        "# **1. 배열**"
      ],
      "metadata": {
        "id": "KJTxwS0seHJd"
      }
    },
    {
      "cell_type": "markdown",
      "source": [
        "* 데이터를 나열하고 각 데이터를 인덱스에 대응하도록 구성한 자료구조\n",
        "* 파이썬의 리스트 타입은 배열 기능을 제공함"
      ],
      "metadata": {
        "id": "gl8r9pRteID9"
      }
    },
    {
      "cell_type": "markdown",
      "source": [
        "### **1-1. 배열이 필요한 이유**\n",
        "* 같은 종류의 데이터를 효율적으로 관리하기 위해 사용\n",
        "* 같은 종류의 데이터를 순차적으로 저장\n",
        "* 빠른 접근이 가능(인덱스 번호로 접근)"
      ],
      "metadata": {
        "id": "YUxPimjPeI6T"
      }
    },
    {
      "cell_type": "markdown",
      "source": [
        "### **1-2. 배열의 단점**\n",
        "* 데이터의 추가 / 삭제가 어려움\n",
        "* 미리 최대 길이를 설정해야 함"
      ],
      "metadata": {
        "id": "WCKrkdymeJp9"
      }
    },
    {
      "cell_type": "code",
      "source": [
        "# 1차원 배열 : 리스트로 구현\n",
        "arr_list = [1, 2, 3, 4, 5]\n",
        "print(arr_list)"
      ],
      "metadata": {
        "colab": {
          "base_uri": "https://localhost:8080/"
        },
        "id": "yBrfehs4wjSt",
        "outputId": "32f30148-4096-49f9-91ab-5170162fde2d"
      },
      "execution_count": null,
      "outputs": [
        {
          "output_type": "stream",
          "name": "stdout",
          "text": [
            "[1, 2, 3, 4, 5]\n"
          ]
        }
      ]
    },
    {
      "cell_type": "code",
      "source": [
        "# 2차원 배열 : 리스트로 구현\n",
        "arr_list = [[1, 2, 3], [4, 5, 6], [7, 8, 9]]\n",
        "print(arr_list)"
      ],
      "metadata": {
        "colab": {
          "base_uri": "https://localhost:8080/"
        },
        "id": "iikAG0NJxF2W",
        "outputId": "139686c4-417e-46ce-beda-480a2947f924"
      },
      "execution_count": null,
      "outputs": [
        {
          "output_type": "stream",
          "name": "stdout",
          "text": [
            "[[1, 2, 3], [4, 5, 6], [7, 8, 9]]\n"
          ]
        }
      ]
    },
    {
      "cell_type": "code",
      "source": [
        "print(arr_list[0])\n",
        "print(arr_list[0][0])\n",
        "print(arr_list[1][2])\n"
      ],
      "metadata": {
        "colab": {
          "base_uri": "https://localhost:8080/"
        },
        "id": "0MHmb501xWtx",
        "outputId": "cf3e0e7b-2a2a-45a0-ef21-529f527d1fca"
      },
      "execution_count": null,
      "outputs": [
        {
          "output_type": "stream",
          "name": "stdout",
          "text": [
            "[1, 2, 3]\n",
            "1\n",
            "6\n"
          ]
        }
      ]
    },
    {
      "cell_type": "code",
      "source": [
        "# arr_list에서 값을 9 8 7 순서로 출력\n",
        "print(arr_list[2][2], arr_list[2][1], arr_list[2][0] )"
      ],
      "metadata": {
        "colab": {
          "base_uri": "https://localhost:8080/"
        },
        "id": "av2NMqM4xzwb",
        "outputId": "b5b6750c-be38-418f-d894-ceba99342f2d"
      },
      "execution_count": null,
      "outputs": [
        {
          "output_type": "stream",
          "name": "stdout",
          "text": [
            "9 8 7\n"
          ]
        }
      ]
    },
    {
      "cell_type": "code",
      "source": [
        "# 다음 dataset 배열에서 전체 이름안에 'M'이라는 글자는 몇 번 나왔는지 빈도 수를 출력\n",
        "dataset = ['Braund, Mr. Owen Harris',\n",
        "'Cumings, Mrs. John Bradley (Florence Briggs Thayer)',\n",
        "'Heikkinen, Miss. Laina',\n",
        "'Futrelle, Mrs. Jacques Heath (Lily May Peel)',\n",
        "'Allen, Mr. William Henry',\n",
        "'Moran, Mr. James',\n",
        "'McCarthy, Mr. Timothy J',\n",
        "'Palsson, Master. Gosta Leonard',\n",
        "'Johnson, Mrs. Oscar W (Elisabeth Vilhelmina Berg)',\n",
        "'Nasser, Mrs. Nicholas (Adele Achem)',\n",
        "'Sandstrom, Miss. Marguerite Rut',\n",
        "'Bonnell, Miss. Elizabeth',\n",
        "'Saundercock, Mr. William Henry',\n",
        "'Andersson, Mr. Anders Johan',\n",
        "'Vestrom, Miss. Hulda Amanda Adolfina',\n",
        "'Hewlett, Mrs. (Mary D Kingcome) ',\n",
        "'Rice, Master. Eugene',\n",
        "'Williams, Mr. Charles Eugene',\n",
        "'Vander Planke, Mrs. Julius (Emelia Maria Vandemoortele)',\n",
        "'Masselmani, Mrs. Fatima',\n",
        "'Fynney, Mr. Joseph J',\n",
        "'Beesley, Mr. Lawrence',\n",
        "'McGowan, Miss. Anna \"Annie\"',\n",
        "'Sloper, Mr. William Thompson',\n",
        "'Palsson, Miss. Torborg Danira',\n",
        "'Asplund, Mrs. Carl Oscar (Selma Augusta Emilia Johansson)',\n",
        "'Emir, Mr. Farred Chehab',\n",
        "'Fortune, Mr. Charles Alexander',\n",
        "'Dwyer, Miss. Ellen \"Nellie\"',\n",
        "'Todoroff, Mr. Lalio']\n",
        "\n",
        "\n",
        "m_count = 0  # 변수를 m_count로 설정한다,  M이 몇 개 있는지를 카운트 할 변수를 0으로 초기화 시킨다.  # for문을 돌려가면서 m을 찾아가면서 1씩 더함\n",
        "\n",
        "for data in dataset:     # dataset에 있는 것을 한개한개씩 data에 넣어준다.   # 앞에 변수() \n",
        "  for index in range(len(data)):  # 그리고 data의 갯수만큼 range 돌린다. (글자 한글자 한글자를 뽑아서 index에 넣는다.)\n",
        "    if data[index] == 'M':\n",
        "      m_count += 1\n",
        "\n",
        "print(m_count)"
      ],
      "metadata": {
        "colab": {
          "base_uri": "https://localhost:8080/"
        },
        "id": "QfI8L4c_0oni",
        "outputId": "c5348ad5-954e-4f60-a67d-5d60750f145d"
      },
      "execution_count": null,
      "outputs": [
        {
          "output_type": "stream",
          "name": "stdout",
          "text": [
            "38\n"
          ]
        }
      ]
    },
    {
      "cell_type": "code",
      "source": [],
      "metadata": {
        "id": "MVdDeNbCxLbu"
      },
      "execution_count": null,
      "outputs": []
    }
  ]
}