{
  "nbformat": 4,
  "nbformat_minor": 0,
  "metadata": {
    "colab": {
      "provenance": [],
      "authorship_tag": "ABX9TyPrFOv31Gm2lqH9JD+NPijb",
      "include_colab_link": true
    },
    "kernelspec": {
      "name": "python3",
      "display_name": "Python 3"
    },
    "language_info": {
      "name": "python"
    }
  },
  "cells": [
    {
      "cell_type": "markdown",
      "metadata": {
        "id": "view-in-github",
        "colab_type": "text"
      },
      "source": [
        "<a href=\"https://colab.research.google.com/github/KimJunGu9/2.algorithm/blob/main/10_%EC%9E%AC%EA%B7%80%ED%98%B8%EC%B6%9C.ipynb\" target=\"_parent\"><img src=\"https://colab.research.google.com/assets/colab-badge.svg\" alt=\"Open In Colab\"/></a>"
      ]
    },
    {
      "cell_type": "code",
      "execution_count": null,
      "metadata": {
        "id": "nB3e3oIZ42d7"
      },
      "outputs": [],
      "source": [
        "# 1. 재귀 호출(recursive call)\n",
        "\n",
        "# 함수 안에서 동일한 함수를 호출하는 형태\n",
        "# 여러 알고리즘, 고급 정렬 알고리즘 작성시 자주 사용됨"
      ]
    },
    {
      "cell_type": "code",
      "source": [
        "# 1-1. 재귀 호출 분석\n",
        "\n",
        "# 2! = 1 * 2\n",
        "# 3! = 1 * 2 * 3 = 3 * 2!\n",
        "# 4! = 1 * 2 * 3 * 4 = 4 * 3!"
      ],
      "metadata": {
        "id": "e8GtD1Gh5eGb"
      },
      "execution_count": null,
      "outputs": []
    },
    {
      "cell_type": "code",
      "source": [
        "# 1-2. 규칙\n",
        "# n! = n * (n-1)!\n",
        "\n",
        "\n",
        "# 1. 함수로 만듦\n",
        "# 2. 함수(n)은 n>1이면 return n * 함수(n-1)\n",
        "# 3. 함수(n)은 n=1이면 return n\n"
      ],
      "metadata": {
        "id": "KJZHhrMczpWu"
      },
      "execution_count": null,
      "outputs": []
    },
    {
      "cell_type": "code",
      "source": [
        "# 1-3. 검증\n",
        "\n",
        "# 1. 2!\n",
        "# 함수 (2)이면 2 > 1이므로 2 * 함수(1)\n",
        "# 함수 (1)은 1 이므로 return 2 * 1, 답은 2\n",
        "\n",
        "# 2. 3!\n",
        "# 함수(3) 이면 3 > 1 이므로 3 * 함수(2)\n",
        "# 함수(2) 는 1번에 의해 2! 이므로 return 2 * 1 = 2\n",
        "# 3 * 함수(2) = 3 * 2 = 3 * 2 * 1, 답은 6\n",
        "\n",
        "# 3. 4!\n",
        "# 함수(4)이면 4 > 1이므로 4 * 함수(3)\n",
        "# 함수(3)은 2번에 의해 3 * 2 * 1 = 6\n",
        "# 4 * 함수(3) = 4 * 6, 답은 24\n"
      ],
      "metadata": {
        "id": "cWNf33O30LjS"
      },
      "execution_count": null,
      "outputs": []
    },
    {
      "cell_type": "code",
      "source": [
        "def factorial(num):\n",
        "  if num > 1:\n",
        "    return  num * factorial(num - 1)\n",
        "  else:\n",
        "    return num"
      ],
      "metadata": {
        "id": "boPUYK7E1qfK"
      },
      "execution_count": null,
      "outputs": []
    },
    {
      "cell_type": "code",
      "source": [
        "for num in range(5):\n",
        "  print(factorial(num))"
      ],
      "metadata": {
        "colab": {
          "base_uri": "https://localhost:8080/"
        },
        "id": "J60pUlPS14gU",
        "outputId": "62bf09c8-7788-412e-c9f0-cdaf1a9e1f38"
      },
      "execution_count": null,
      "outputs": [
        {
          "output_type": "stream",
          "name": "stdout",
          "text": [
            "0\n",
            "1\n",
            "2\n",
            "6\n",
            "24\n"
          ]
        }
      ]
    },
    {
      "cell_type": "code",
      "source": [
        "# 1-4. 재귀 호출의 시간 복잡도\n",
        "\n",
        "# factorial(n)은 n-1번의 factorial() 함수를 호출해서 곱셈을 함\n",
        "# n-1번 반복문을 호출한 것과 동일\n",
        "# factorial() 함수를 호출할 때마다 지역변수 n이 생성됨\n",
        "# 시간 복잡도는 O(n-1)이므로 O(n)"
      ],
      "metadata": {
        "id": "6_iHuzoE2B7e"
      },
      "execution_count": null,
      "outputs": []
    },
    {
      "cell_type": "code",
      "source": [
        "# 1-5. 재귀 호출의 일반적인 형태"
      ],
      "metadata": {
        "id": "Hg3w0IePAzkX"
      },
      "execution_count": null,
      "outputs": []
    },
    {
      "cell_type": "markdown",
      "source": [
        "형태 1.\n",
        "\n",
        "```\n",
        "def function(입력):\n",
        "  if 입력 > 일정값:\n",
        "    return function(입력-1)\n",
        "  else:\n",
        "    return 일정값, 입력값, 또는 특정값\n",
        "```"
      ],
      "metadata": {
        "id": "QX3ieUViA68L"
      }
    },
    {
      "cell_type": "markdown",
      "source": [
        "형태 2.\n",
        "\n",
        "```\n",
        "def function(입력):\n",
        "  if 입력 <= 일정값:\n",
        "    return 일정값, 입력값 또는 특정값\n",
        "  function(입력보다 작은 값)\n",
        "  return 결과값\n",
        "```"
      ],
      "metadata": {
        "id": "XRhGiW8GA9pg"
      }
    },
    {
      "cell_type": "code",
      "source": [
        "def factorial(num):\n",
        "  if num <= 1:\n",
        "    return num\n",
        "  return num * factorial(num-1)"
      ],
      "metadata": {
        "id": "pNvxVaNfBuPi"
      },
      "execution_count": null,
      "outputs": []
    },
    {
      "cell_type": "code",
      "source": [
        "for num in range(10):\n",
        "  print(factorial(num))"
      ],
      "metadata": {
        "colab": {
          "base_uri": "https://localhost:8080/"
        },
        "id": "hbAJsOqaBu-o",
        "outputId": "b2b5a0ed-6e82-47d1-b632-3ac4a50b9542"
      },
      "execution_count": null,
      "outputs": [
        {
          "output_type": "stream",
          "name": "stdout",
          "text": [
            "0\n",
            "1\n",
            "2\n",
            "6\n",
            "24\n",
            "120\n",
            "720\n",
            "5040\n",
            "40320\n",
            "362880\n"
          ]
        }
      ]
    },
    {
      "cell_type": "markdown",
      "source": [
        "### **1-6. 재귀 호출의 전형적인 예**\n",
        "* 함수는 내부적으로 스택처럼 관리\n",
        "* [코드분석]( http://pythontutor.com/live.html#code=%23%20factorial%20%ED%95%A8%EC%88%98%20%EC%95%88%EC%97%90%EC%84%9C%20factorial%20%ED%95%A8%EC%88%98%EB%A5%BC%20%ED%98%B8%EC%B6%9C%0Adef%20factorial%28num%29%3A%0A%20%20%20%20if%20num%20%3E%201%3A%0A%20%20%20%20%20%20%20%20return%20num%20*%20factorial%28num%20-%201%29%0A%20%20%20%20else%3A%0A%20%20%20%20%20%20%20%20return%20num%0A%0Afactorial%285%29&cumulative=false&curInstr=22&heapPrimitives=false&mode=display&origin=opt-live.js&py=3&rawInputLstJSON=%5B%5D&textReferences=false)\n",
        "\n",
        "> 파이썬에서는 재귀 함수 깊이가(한번에 호출되는) 1000회 이하로 되어야 함"
      ],
      "metadata": {
        "id": "PNCxFuMcZ4sW"
      }
    },
    {
      "cell_type": "code",
      "source": [
        "# 문제.\n",
        "# 다음 함수를 재귀 함수를 활용하여 1부터 num까지의 곱이 출력되도록 만들어보자\n",
        "\n",
        "\n",
        "# def multiple(data):\n",
        "#   if data <= 1:\n",
        "#     return data\n",
        "\n",
        "#   return ...\n",
        "\n",
        "\n",
        "# multiple(10)"
      ],
      "metadata": {
        "id": "5pC49_CpB8yM"
      },
      "execution_count": null,
      "outputs": []
    },
    {
      "cell_type": "code",
      "source": [
        "def multiple(data):\n",
        "  return_data = 1\n",
        "  for index in range(1, num + 1):\n",
        "    return_data = return_data * index\n",
        "  return return_data"
      ],
      "metadata": {
        "id": "RBipQiixCEmp"
      },
      "execution_count": null,
      "outputs": []
    },
    {
      "cell_type": "code",
      "source": [
        "multiple(10)"
      ],
      "metadata": {
        "colab": {
          "base_uri": "https://localhost:8080/"
        },
        "id": "Qj7bg1pzCFwS",
        "outputId": "3508e5ac-8fba-4ece-8cc8-ae199909fd67"
      },
      "execution_count": null,
      "outputs": [
        {
          "output_type": "execute_result",
          "data": {
            "text/plain": [
              "362880"
            ]
          },
          "metadata": {},
          "execution_count": 4
        }
      ]
    },
    {
      "cell_type": "code",
      "source": [
        "def multiple(data):\n",
        "  if data <= 1:\n",
        "    return data\n",
        "  return data * multiple(data - 1)"
      ],
      "metadata": {
        "id": "7tcCi2i2CHF8"
      },
      "execution_count": null,
      "outputs": []
    },
    {
      "cell_type": "code",
      "source": [
        "multiple(10)"
      ],
      "metadata": {
        "colab": {
          "base_uri": "https://localhost:8080/"
        },
        "id": "v5fIlbfZCIo9",
        "outputId": "97df12de-4d05-4881-d8b0-b6f8d264dcda"
      },
      "execution_count": null,
      "outputs": [
        {
          "output_type": "execute_result",
          "data": {
            "text/plain": [
              "3628800"
            ]
          },
          "metadata": {},
          "execution_count": 6
        }
      ]
    },
    {
      "cell_type": "code",
      "source": [
        "# 문제.\n",
        "# 회문은 \"순서를 거꾸로 읽어도 제대로 읽은 것과 같은 단어와 문장을 의미\" 합니다. 회문을 판별할 수 있는 함수를 리스트 슬라이싱을 활용하여 만들어보자.\n",
        "\n",
        "# 재귀함수를 사용\n",
        "# 회문이면 True, 아니면 False를 반환"
      ],
      "metadata": {
        "id": "v32PFJhcCJs5"
      },
      "execution_count": null,
      "outputs": []
    },
    {
      "cell_type": "code",
      "source": [
        "def palindrome(string):\n",
        "  if len(string) <= 1:        \n",
        "    return True\n",
        "  if string[0] == string[-1]:\n",
        "    return palindrome(string[1:-1])\n",
        "  else:\n",
        "    return False "
      ],
      "metadata": {
        "id": "lUdMS1aUCOQQ"
      },
      "execution_count": null,
      "outputs": []
    },
    {
      "cell_type": "code",
      "source": [
        "palindrome('motor')"
      ],
      "metadata": {
        "colab": {
          "base_uri": "https://localhost:8080/"
        },
        "id": "-GsoZM0gCOqD",
        "outputId": "459bf7e4-7de8-43a0-9f30-c19218340ea3"
      },
      "execution_count": null,
      "outputs": [
        {
          "output_type": "execute_result",
          "data": {
            "text/plain": [
              "False"
            ]
          },
          "metadata": {},
          "execution_count": 8
        }
      ]
    },
    {
      "cell_type": "code",
      "source": [
        "palindrome('wow')"
      ],
      "metadata": {
        "colab": {
          "base_uri": "https://localhost:8080/"
        },
        "id": "74SgV1LWCPl8",
        "outputId": "bdbd54a8-6c30-417a-c3eb-9471d6b320b0"
      },
      "execution_count": null,
      "outputs": [
        {
          "output_type": "execute_result",
          "data": {
            "text/plain": [
              "True"
            ]
          },
          "metadata": {},
          "execution_count": 9
        }
      ]
    },
    {
      "cell_type": "code",
      "source": [
        "palindrome('woadggdaow')"
      ],
      "metadata": {
        "colab": {
          "base_uri": "https://localhost:8080/"
        },
        "id": "ioBr4wahCQfb",
        "outputId": "53a90468-365c-46af-b06f-b5a64e5514be"
      },
      "execution_count": null,
      "outputs": [
        {
          "output_type": "execute_result",
          "data": {
            "text/plain": [
              "True"
            ]
          },
          "metadata": {},
          "execution_count": 10
        }
      ]
    },
    {
      "cell_type": "code",
      "source": [
        "# 문제.\n",
        "# 정수 n을 입력받아 아래와 같이 처리하는 프로그램을 만들어보자.\n",
        "\n",
        "# n이 홀수면 3 * n + 1을 함\n",
        "# n이 짝수면 n을 2로 나눔\n",
        "# 이렇게 계속 진행해서 n이 결국 1이 될때까지 1과 2를 반복하며 실행\n",
        "\n",
        "# 3\n",
        "# 10\n",
        "# 5\n",
        "# 16\n",
        "# 8\n",
        "# 4\n",
        "# 2\n",
        "# 1"
      ],
      "metadata": {
        "id": "egDTORJ1CRiC"
      },
      "execution_count": null,
      "outputs": []
    },
    {
      "cell_type": "code",
      "source": [
        "def func(n):\n",
        "  print(n)\n",
        "  if n == 1:\n",
        "    return n\n",
        "  \n",
        "  if n % 2 == 1:\n",
        "    return (func((3 * n) + 1))\n",
        "  else:\n",
        "    return (func(int(n / 2)))"
      ],
      "metadata": {
        "id": "TpdsyRYgCTIp"
      },
      "execution_count": null,
      "outputs": []
    },
    {
      "cell_type": "code",
      "source": [
        "func(3)"
      ],
      "metadata": {
        "colab": {
          "base_uri": "https://localhost:8080/"
        },
        "id": "i5FxrE9ICWv0",
        "outputId": "4df73027-b186-4173-83dd-243a2e269ca8"
      },
      "execution_count": null,
      "outputs": [
        {
          "output_type": "stream",
          "name": "stdout",
          "text": [
            "3\n",
            "10\n",
            "5\n",
            "16\n",
            "8\n",
            "4\n",
            "2\n",
            "1\n"
          ]
        },
        {
          "output_type": "execute_result",
          "data": {
            "text/plain": [
              "1"
            ]
          },
          "metadata": {},
          "execution_count": 13
        }
      ]
    },
    {
      "cell_type": "code",
      "source": [],
      "metadata": {
        "id": "673rGm2qCXyW"
      },
      "execution_count": null,
      "outputs": []
    }
  ]
}