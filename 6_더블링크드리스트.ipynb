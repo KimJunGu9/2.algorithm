{
  "nbformat": 4,
  "nbformat_minor": 0,
  "metadata": {
    "colab": {
      "provenance": [],
      "authorship_tag": "ABX9TyMB0CLN7zoFQDfMtkjPH17l",
      "include_colab_link": true
    },
    "kernelspec": {
      "name": "python3",
      "display_name": "Python 3"
    },
    "language_info": {
      "name": "python"
    }
  },
  "cells": [
    {
      "cell_type": "markdown",
      "metadata": {
        "id": "view-in-github",
        "colab_type": "text"
      },
      "source": [
        "<a href=\"https://colab.research.google.com/github/KimJunGu9/2.algorithm/blob/main/6_%EB%8D%94%EB%B8%94%EB%A7%81%ED%81%AC%EB%93%9C%EB%A6%AC%EC%8A%A4%ED%8A%B8.ipynb\" target=\"_parent\"><img src=\"https://colab.research.google.com/assets/colab-badge.svg\" alt=\"Open In Colab\"/></a>"
      ]
    },
    {
      "cell_type": "markdown",
      "source": [
        "# **1. 더블 링크드 리스트(Doubly Linked List)**"
      ],
      "metadata": {
        "id": "nyc4WItLsspM"
      }
    },
    {
      "cell_type": "markdown",
      "source": [
        "* 양방향으로 연결되어 있어서 노드 탐색이 양쪽으로 모두 가능"
      ],
      "metadata": {
        "id": "dYZS-ZWfss-u"
      }
    },
    {
      "cell_type": "code",
      "source": [
        "class Node:\n",
        "  def __init__(self, data, prev=None, next=None): # prev : 이전의 객체를 가리킬 주소를 여기에다가 저장\n",
        "    self.prev = prev\n",
        "    self.data = data\n",
        "    self.next = next"
      ],
      "metadata": {
        "id": "06I6JstYswi5"
      },
      "execution_count": null,
      "outputs": []
    },
    {
      "cell_type": "code",
      "execution_count": null,
      "metadata": {
        "id": "aDsd5lLQNPDa"
      },
      "outputs": [],
      "source": [
        "class NodeMgmt:\n",
        "  def __init__(self, data):\n",
        "    self.head = Node(data)\n",
        "    self.tail = self.head # 데이터가 한개가 저장되면 head가 될수가 있고 tail일 수 있다.\n",
        "\n",
        "\n",
        "  def insert(self, data):\n",
        "    if self.head == None: # head가 없다면 (방어코드. data가 안들어온다고보면 됨. 죄다 __init__(self,data에 들어가기때문))\n",
        "      self.head = Node(data) # head는 data를 넣어서 node객체를 만든다\n",
        "      self.tail = self # node객체를 만들었으니까 이 노드객체 자체인 self를 넣는다\n",
        "\n",
        "    else:\n",
        "      node = self.head # head를 node에 넣고\n",
        "      while node.next:\n",
        "        node = node.next\n",
        "      new = Node(data) # 끝까지 가면 끝에 있는 놈은 next값이 없으니 새로운 객체를 집어넣는다\n",
        "      node.next = new\n",
        "      new.prev = node\n",
        "      self.tail = new\n",
        "\n",
        "\n",
        "  def node_print(self):\n",
        "    node = self.head\n",
        "    while node:\n",
        "      print(node.data)\n",
        "      node = node.next\n",
        "\n",
        "\n",
        "  # 앞에서부터 검색하여 전달한 data값이 존재하는 경우 해당 값을 출력하고, 존재하지 않는 경우는 False를 출력하는 함수\n",
        "  def search_from_head(self, data):\n",
        "    if self.head == None:\n",
        "      return False\n",
        "    node = self.head # head가 있다면 첫번째 데이터를 가리킬 node변수를 만든다\n",
        "    while node: # 그리고 그 node가 있는지 확인한다\n",
        "      if node.data == data: # node가 있다면  만약 node의 data가 내가 찾고자하는 data랑 일치한다면\n",
        "        return node  # 일치하면 node\n",
        "      else:          # 일치하지않는다면\n",
        "        node = node.next # 다음 pointer를 준다\n",
        "    return False\n",
        "\n",
        "\n",
        "  # 뒤에서부터 검색하여 전달한 data값이 존재하는 경우 해당 값을 출력하고, 존재하지 않는 경우는 False를 출력하는 함수\n",
        "  def search_from_tail(self, data):\n",
        "    if self.tail == None:\n",
        "      return False\n",
        "    node = self.tail\n",
        "    while node:\n",
        "      if node.data == data:\n",
        "        return node\n",
        "      else:\n",
        "        node = node.prev\n",
        "    return False\n",
        "\n",
        "\n",
        "  def insert_before(self, data, after_data):  # insert_before(2.5, 3)\n",
        "    if self.head == None:\n",
        "      self.head = Node(data)\n",
        "      return True\n",
        "    else:\n",
        "      node = self.tail # 뒤에서부터 찾기\n",
        "      while node.data != after_data:\n",
        "        node = node.prev\n",
        "        if node == None:\n",
        "          return False\n",
        "      new = Node(data)\n",
        "      before_new = node.prev\n",
        "      before_new.next = new\n",
        "      new.prev = before_new\n",
        "      new.next = node\n",
        "      node.prev = new\n",
        "      return True"
      ]
    },
    {
      "cell_type": "code",
      "source": [
        "double_linked_list = NodeMgmt(0)\n",
        "\n",
        "for data in range(1, 11):\n",
        "  double_linked_list.insert(data)"
      ],
      "metadata": {
        "id": "p_jiyY6PNcrQ"
      },
      "execution_count": null,
      "outputs": []
    },
    {
      "cell_type": "code",
      "source": [
        "double_linked_list.node_print()"
      ],
      "metadata": {
        "colab": {
          "base_uri": "https://localhost:8080/"
        },
        "id": "3dG401JFNg3N",
        "outputId": "46bd5405-92b4-4583-9279-baf9b288dc56"
      },
      "execution_count": null,
      "outputs": [
        {
          "output_type": "stream",
          "name": "stdout",
          "text": [
            "0\n",
            "1\n",
            "2\n",
            "3\n",
            "4\n",
            "5\n",
            "6\n",
            "7\n",
            "8\n",
            "9\n",
            "10\n"
          ]
        }
      ]
    },
    {
      "cell_type": "code",
      "source": [
        "search_result = double_linked_list.search_from_head(7)\n",
        "print(search_result.data)"
      ],
      "metadata": {
        "colab": {
          "base_uri": "https://localhost:8080/"
        },
        "id": "2BQJT67lNj-X",
        "outputId": "5b011069-17fd-4d1a-d234-13765438e3d7"
      },
      "execution_count": null,
      "outputs": [
        {
          "output_type": "stream",
          "name": "stdout",
          "text": [
            "7\n"
          ]
        }
      ]
    },
    {
      "cell_type": "code",
      "source": [
        "search_result = double_linked_list.search_from_head(17)\n",
        "print(search_result)"
      ],
      "metadata": {
        "colab": {
          "base_uri": "https://localhost:8080/"
        },
        "id": "dutB44JmNm_W",
        "outputId": "068de1c6-d27d-4c96-9d37-6d7576a123aa"
      },
      "execution_count": null,
      "outputs": [
        {
          "output_type": "stream",
          "name": "stdout",
          "text": [
            "False\n"
          ]
        }
      ]
    },
    {
      "cell_type": "code",
      "source": [
        "search_result = double_linked_list.search_from_tail(7)\n",
        "print(search_result.data)"
      ],
      "metadata": {
        "colab": {
          "base_uri": "https://localhost:8080/"
        },
        "id": "C2G1LXv6Nn_W",
        "outputId": "c649c43f-38f2-449a-c224-3f7bb2899ca1"
      },
      "execution_count": null,
      "outputs": [
        {
          "output_type": "stream",
          "name": "stdout",
          "text": [
            "7\n"
          ]
        }
      ]
    },
    {
      "cell_type": "code",
      "source": [
        "search_result = double_linked_list.search_from_tail(17)\n",
        "print(search_result)"
      ],
      "metadata": {
        "colab": {
          "base_uri": "https://localhost:8080/"
        },
        "id": "HHl3piG3No3d",
        "outputId": "6508f3b7-dcd7-4e39-b27f-dc601c5a7a2e"
      },
      "execution_count": null,
      "outputs": [
        {
          "output_type": "stream",
          "name": "stdout",
          "text": [
            "False\n"
          ]
        }
      ]
    },
    {
      "cell_type": "markdown",
      "source": [
        "### **문제.**\n",
        "위 코드에서 노드 데이터가 특정 숫자인 노드 앞에 데이터를 추가하는 함수를 만들고 테스트해보자."
      ],
      "metadata": {
        "id": "nz85jcc-s4AH"
      }
    },
    {
      "cell_type": "code",
      "source": [
        "double_linked_list.insert_before(2.5, 3)"
      ],
      "metadata": {
        "colab": {
          "base_uri": "https://localhost:8080/"
        },
        "id": "fKp1ou2aNxdQ",
        "outputId": "20f0f1e3-0974-443e-dabf-aedc9702df29"
      },
      "execution_count": null,
      "outputs": [
        {
          "output_type": "execute_result",
          "data": {
            "text/plain": [
              "True"
            ]
          },
          "metadata": {},
          "execution_count": 11
        }
      ]
    },
    {
      "cell_type": "code",
      "source": [
        "double_linked_list.node_print()"
      ],
      "metadata": {
        "colab": {
          "base_uri": "https://localhost:8080/"
        },
        "id": "aQFedLo3NyHw",
        "outputId": "21762913-4652-4fac-ea9f-882af060fc5f"
      },
      "execution_count": null,
      "outputs": [
        {
          "output_type": "stream",
          "name": "stdout",
          "text": [
            "0\n",
            "1\n",
            "2\n",
            "2.5\n",
            "3\n",
            "4\n",
            "5\n",
            "6\n",
            "7\n",
            "8\n",
            "9\n",
            "10\n"
          ]
        }
      ]
    },
    {
      "cell_type": "code",
      "source": [],
      "metadata": {
        "id": "UVQRly7DNyim"
      },
      "execution_count": null,
      "outputs": []
    }
  ]
}