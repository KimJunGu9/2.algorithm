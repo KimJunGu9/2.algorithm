{
  "nbformat": 4,
  "nbformat_minor": 0,
  "metadata": {
    "colab": {
      "provenance": [],
      "authorship_tag": "ABX9TyPbIvtc323I81w1vSZD3v64",
      "include_colab_link": true
    },
    "kernelspec": {
      "name": "python3",
      "display_name": "Python 3"
    },
    "language_info": {
      "name": "python"
    }
  },
  "cells": [
    {
      "cell_type": "markdown",
      "metadata": {
        "id": "view-in-github",
        "colab_type": "text"
      },
      "source": [
        "<a href=\"https://colab.research.google.com/github/KimJunGu9/2.algorithm/blob/main/4_%EC%8A%A4%ED%83%9D.ipynb\" target=\"_parent\"><img src=\"https://colab.research.google.com/assets/colab-badge.svg\" alt=\"Open In Colab\"/></a>"
      ]
    },
    {
      "cell_type": "markdown",
      "source": [
        "# **1. 스택(stack)**"
      ],
      "metadata": {
        "id": "rIgWSP3RvV8W"
      }
    },
    {
      "cell_type": "markdown",
      "source": [
        "* 데이터를 제한적으로 접근할 수 있는 구조\n",
        "* 한쪽 끝에서만 자료를 넣거나 뺄 수 있는 구조\n",
        "* 가장 나중에 쌓은 데이터를 가장 먼저 빼낼 수 있는 구조\n",
        "* LIFO(Last Input First Out)"
      ],
      "metadata": {
        "id": "ZaXKNafAvYk8"
      }
    },
    {
      "cell_type": "markdown",
      "source": [
        "### **1-1. 스택의 구조**\n",
        "* 스택은 LIFO 또는 FILO 데이터 관리 방식\n",
        "* 스택의 활용 -> 컴퓨터 내부의 프로세스 구조의 함수 동작 방식\n",
        "* 기능\n",
        "  * push() : 데이터를 스택에 쌓기\n",
        "  * pop() : 데이터를 스택에서 꺼내기"
      ],
      "metadata": {
        "id": "u4ZGVhNavZhf"
      }
    },
    {
      "cell_type": "markdown",
      "source": [
        "1-2. 스택의 장단점\n",
        "* 장점\n",
        "  * 구조가 단순해서 구현하기 쉬움\n",
        "  * 데이터 저장/읽기 속도가 빠름\n",
        "* 단점\n",
        "  * 데이터 최대 개수를 미리 정해야 함(파이썬의 경우 재귀함수는 1000번까지만 호출이 가능)\n",
        "  * 저장 공간의 낭비가 발생할 수 있음(미리 최대 개수만큼 저장공간을 미리 확보해야 함)\n",
        "\n",
        "> 스택은 단순하고 빠른 성능을 위해 사용하므로 보통 배열 구조를 활용해서 구현하는 것이 일반적"
      ],
      "metadata": {
        "id": "GCDxU29Vvauu"
      }
    },
    {
      "cell_type": "code",
      "source": [
        "# 파이썬 리스트 기능에서 제공하는 메소드로 스택 사용하기\n",
        "data_stack = list()\n",
        "print(data_stack)\n",
        "\n",
        "data_stack.append(2)\n",
        "data_stack.append(10)\n",
        "data_stack.append(5)\n",
        "print(data_stack)\n",
        "\n",
        "print(data_stack.pop())\n",
        "print(data_stack)"
      ],
      "metadata": {
        "colab": {
          "base_uri": "https://localhost:8080/"
        },
        "id": "6oMPcS4gvcLt",
        "outputId": "c9e9d568-722f-4c7e-c9b8-274f597dd5c5"
      },
      "execution_count": null,
      "outputs": [
        {
          "output_type": "stream",
          "name": "stdout",
          "text": [
            "[]\n",
            "[2, 10, 5]\n",
            "5\n",
            "[2, 10]\n"
          ]
        }
      ]
    },
    {
      "cell_type": "markdown",
      "source": [
        "### **문제.**\n",
        "리스트 변수로 스택을 다루는 pop, push 기능을 직접 구현해보자. (리스트의 pop, push 함수는 사용하지 않음) "
      ],
      "metadata": {
        "id": "gDscja8UvdVj"
      }
    },
    {
      "cell_type": "code",
      "source": [
        "stack_list = list()\n",
        "\n",
        "def push(data):\n",
        "  stack_list.append(data)\n",
        "\n",
        "def pop():\n",
        "  data = stack_list[-1]\n",
        "  del stack_list[-1]\n",
        "  return data"
      ],
      "metadata": {
        "id": "EmA2O9qOvgoU"
      },
      "execution_count": null,
      "outputs": []
    },
    {
      "cell_type": "code",
      "source": [
        "for index in range(10):\n",
        "  push(index)"
      ],
      "metadata": {
        "id": "P3-uQmtmvhnw"
      },
      "execution_count": null,
      "outputs": []
    },
    {
      "cell_type": "code",
      "source": [
        "print(stack_list)"
      ],
      "metadata": {
        "colab": {
          "base_uri": "https://localhost:8080/"
        },
        "id": "3pXwNTBGviY8",
        "outputId": "0ed842be-6cce-405f-90b1-736a9128f2f6"
      },
      "execution_count": null,
      "outputs": [
        {
          "output_type": "stream",
          "name": "stdout",
          "text": [
            "[0, 1, 2, 3, 4, 5, 6, 7, 8, 9]\n"
          ]
        }
      ]
    },
    {
      "cell_type": "code",
      "source": [
        "print(pop())"
      ],
      "metadata": {
        "colab": {
          "base_uri": "https://localhost:8080/"
        },
        "id": "JYuJD9WxvjdR",
        "outputId": "5851a6c6-e7f3-4c83-ca59-f03da9d6576e"
      },
      "execution_count": null,
      "outputs": [
        {
          "output_type": "stream",
          "name": "stdout",
          "text": [
            "9\n"
          ]
        }
      ]
    },
    {
      "cell_type": "code",
      "source": [
        "print(stack_list)"
      ],
      "metadata": {
        "colab": {
          "base_uri": "https://localhost:8080/"
        },
        "id": "K9hPxtdCvkFK",
        "outputId": "75ffe7f3-7edd-4694-f0ce-7a64fd9a0a04"
      },
      "execution_count": null,
      "outputs": [
        {
          "output_type": "stream",
          "name": "stdout",
          "text": [
            "[0, 1, 2, 3, 4, 5, 6, 7, 8]\n"
          ]
        }
      ]
    },
    {
      "cell_type": "code",
      "source": [
        "print(pop())\n",
        "print(pop())\n",
        "print(pop())"
      ],
      "metadata": {
        "colab": {
          "base_uri": "https://localhost:8080/"
        },
        "id": "GXiIusoRvk0r",
        "outputId": "b1853d0e-6660-46ff-84dd-bc8765cd5e45"
      },
      "execution_count": null,
      "outputs": [
        {
          "output_type": "stream",
          "name": "stdout",
          "text": [
            "8\n",
            "7\n",
            "6\n"
          ]
        }
      ]
    },
    {
      "cell_type": "code",
      "source": [
        "print(stack_list)"
      ],
      "metadata": {
        "colab": {
          "base_uri": "https://localhost:8080/"
        },
        "id": "i0mgeqRrvlmd",
        "outputId": "5d379c12-716e-47ba-ca62-dd72f4e77a55"
      },
      "execution_count": null,
      "outputs": [
        {
          "output_type": "stream",
          "name": "stdout",
          "text": [
            "[0, 1, 2, 3, 4, 5]\n"
          ]
        }
      ]
    }
  ]
}