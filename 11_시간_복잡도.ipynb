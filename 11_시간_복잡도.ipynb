{
  "nbformat": 4,
  "nbformat_minor": 0,
  "metadata": {
    "colab": {
      "provenance": [],
      "authorship_tag": "ABX9TyNB0drKGn7QV+cAp56n9wkv",
      "include_colab_link": true
    },
    "kernelspec": {
      "name": "python3",
      "display_name": "Python 3"
    },
    "language_info": {
      "name": "python"
    }
  },
  "cells": [
    {
      "cell_type": "markdown",
      "metadata": {
        "id": "view-in-github",
        "colab_type": "text"
      },
      "source": [
        "<a href=\"https://colab.research.google.com/github/KimJunGu9/2.algorithm/blob/main/11_%EC%8B%9C%EA%B0%84_%EB%B3%B5%EC%9E%A1%EB%8F%84.ipynb\" target=\"_parent\"><img src=\"https://colab.research.google.com/assets/colab-badge.svg\" alt=\"Open In Colab\"/></a>"
      ]
    },
    {
      "cell_type": "markdown",
      "source": [
        "# 1.알고리즘 복잡도 표현방법"
      ],
      "metadata": {
        "id": "jFNcMpIjgOZm"
      }
    },
    {
      "cell_type": "markdown",
      "source": [
        "### 1-1.알고리즘 복잡도 계산이 필요한 이유\n",
        "하나의 문제를 푸는 알고리즘은 다양함\n",
        "\n",
        "* 정수의 절대값을 구하는 방법\n",
        "  * 방법 1 : 값이 음수인지 확인해서 0보다 작은 음수일 때 -1을 곱하기\n",
        "  * 방법 2 : 정수값을 제곱한 값에 다시 루트를 씌우기\n",
        "\n",
        "> 다양한 알고리즘 중 어떤 알고리즘이 더 좋은지 분석하기 위해 복잡도를 정의하고 계산함"
      ],
      "metadata": {
        "id": "4F7RO8EZgR96"
      }
    },
    {
      "cell_type": "markdown",
      "source": [
        "### 1-2.알고리즘 복잡도 계산 항목\n",
        "* 시간 복잡도 : 알고리즘 실행 속도\n",
        "* 공간 복잡도 : 알고리즘이 사용하는 메모리 사이즈"
      ],
      "metadata": {
        "id": "t3M4tLDGgVRp"
      }
    },
    {
      "cell_type": "markdown",
      "source": [
        "### 1-3.알고리즘 성능 표기법\n",
        "\n",
        "* 오메가 표기법\n",
        "  * 알고리즘 최상의 실행 시간을 표기\n",
        "\n",
        "* 세타 표기법\n",
        "  * 알고리즘 평균 실행시간을 표기\n",
        "\n",
        "* 빅오 표기법 (Big - O)\n",
        "  * 최악의 실행 시간을 표기\n",
        "  * 가장 많이 사용함\n",
        "  * 아무리 최악의 상황이라도 이 정도의 성능은 보장함을 의미"
      ],
      "metadata": {
        "id": "WldSxQuZgXrU"
      }
    },
    {
      "cell_type": "markdown",
      "source": [
        "### 1-4.빅오 표기법\n",
        "* 입력 n에 따라 결정되는 시간 복잡도 함수\n",
        "* O(1) < O($log n$) < O(n) < O(n$log n$) < O($n^2$) < O($2^n$) < O(n!)\n",
        "* 입력 n에 따라 시간 복잡도가 늘어날 수 있음"
      ],
      "metadata": {
        "id": "XlhbWkMo7Ibi"
      }
    },
    {
      "cell_type": "markdown",
      "source": [
        "<img src='https://t1.daumcdn.net/cfile/tistory/99EF1E395C7EB4B601'>"
      ],
      "metadata": {
        "id": "ae_96gqR5rO5"
      }
    },
    {
      "cell_type": "markdown",
      "source": [
        "O(1) : input의 크기가 소요 시간에 영향이 없으며 반복문이 없으면 대체로 O(1)\n",
        "\n",
        "입력의 크기가 커지면 커질수록 반복문이 알고리즘 수행 시간을 지배함\n",
        "\n",
        "```\n",
        "def print_list(data):\n",
        "  print(data[0])\n",
        "```"
      ],
      "metadata": {
        "id": "a66XncY35w2Y"
      }
    },
    {
      "cell_type": "markdown",
      "source": [
        "O( logn ) : up&down의 예, BST 자료구조의 예, 매번 숫자를 제시할 때마다 경우의 수가 절반이 줄어들기 때문에 최악의 경우에도 빠르게 원하는 숫자를 찾아낼 수 있음\n",
        "\n",
        "```\n",
        "def print(n):\n",
        "  i = n\n",
        "  while i > 1:\n",
        "    print(i)\n",
        "    i = i / 2\n",
        "```"
      ],
      "metadata": {
        "id": "S8idagFJ50SP"
      }
    },
    {
      "cell_type": "markdown",
      "source": [
        "O(n) : 선형 복잡도라고 부르며, 입력값이 증가함에 따라 시간 또한 같은 비율로 증가하는 것을 의미\n",
        "\n",
        "```\n",
        "  def print_each(data):\n",
        "    for i in range(len(data)):\n",
        "      print(data[i])\n",
        "```"
      ],
      "metadata": {
        "id": "XxEhgC-f548R"
      }
    },
    {
      "cell_type": "markdown",
      "source": [
        "O( n2 ) : 2차 복잡도라고 부르며, 입력값이 증가함에 따라 시간이 n의 제곱수의 비율로 증가하는 것\n",
        "\n",
        "```\n",
        "  def print_each2(data):\n",
        "    for i in range(len(data)):\n",
        "      for j in range(len(data)):\n",
        "        print(data[i], data[j])\n",
        "```"
      ],
      "metadata": {
        "id": "sb2Ghy5j5740"
      }
    },
    {
      "cell_type": "markdown",
      "source": [
        "### 1-5.실제 알고리즘을 예로 각 알고리즘 시간 복잡도와 빅오 표기법 알아보기"
      ],
      "metadata": {
        "id": "_iO-yjgcgeK_"
      }
    },
    {
      "cell_type": "code",
      "source": [
        "# 1부터 n까지 합을 구하는 알고리즘"
      ],
      "metadata": {
        "id": "uY0BJHJR6GPZ"
      },
      "execution_count": null,
      "outputs": []
    },
    {
      "cell_type": "code",
      "source": [
        "# 알고리즘 1\n",
        "def sum_all(n):\n",
        "  total = 0\n",
        "  for num in range(1, n+1):\n",
        "    total += num\n",
        "  return total"
      ],
      "metadata": {
        "id": "V3YSxW0C6J6h"
      },
      "execution_count": null,
      "outputs": []
    },
    {
      "cell_type": "code",
      "source": [
        "sum_all(100) # O(n)"
      ],
      "metadata": {
        "colab": {
          "base_uri": "https://localhost:8080/"
        },
        "id": "FZ6Qbq1i6L1y",
        "outputId": "67b8eca5-012b-4b73-d98c-504f8ed2658d"
      },
      "execution_count": null,
      "outputs": [
        {
          "output_type": "execute_result",
          "data": {
            "text/plain": [
              "5050"
            ]
          },
          "metadata": {},
          "execution_count": 6
        }
      ]
    },
    {
      "cell_type": "markdown",
      "source": [
        "알고리즘 2\n",
        "\n",
        "<font size=5em>$\\frac { n (n + 1) }{ 2 }$</font>"
      ],
      "metadata": {
        "id": "Byk-xJNU6Ptr"
      }
    },
    {
      "cell_type": "code",
      "source": [
        "def sum_all(n):\n",
        "  return int( n * ( n + 1) / 2)"
      ],
      "metadata": {
        "id": "CKCNK2EG6OSi"
      },
      "execution_count": null,
      "outputs": []
    },
    {
      "cell_type": "code",
      "source": [
        "sum_all(100) # O(1)"
      ],
      "metadata": {
        "colab": {
          "base_uri": "https://localhost:8080/"
        },
        "id": "l_342RFa6WMU",
        "outputId": "b8913fa6-1348-43d5-afe4-699f5e001526"
      },
      "execution_count": null,
      "outputs": [
        {
          "output_type": "execute_result",
          "data": {
            "text/plain": [
              "5050"
            ]
          },
          "metadata": {},
          "execution_count": 8
        }
      ]
    },
    {
      "cell_type": "markdown",
      "source": [
        "위와 같이 동일한 문제를 푸는 알고리즘은 다양할 수 있음. 어떤 알고리즘이 보다 좋은지 객관적으로 비교하기 위해 빅오 표기법등 시간 복잡도 계산법을 사용하는 이유"
      ],
      "metadata": {
        "id": "1qNOO3Om6bLG"
      }
    }
  ]
}